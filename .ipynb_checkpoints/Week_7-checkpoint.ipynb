{
 "cells": [
  {
   "cell_type": "code",
   "execution_count": 1,
   "metadata": {},
   "outputs": [],
   "source": [
    "import os \n",
    "import folium\n",
    "from folium import plugins\n",
    "import branca.colormap as bcm"
   ]
  },
  {
   "cell_type": "code",
   "execution_count": 2,
   "metadata": {},
   "outputs": [
    {
     "name": "stdout",
     "output_type": "stream",
     "text": [
      "Populating the interactive namespace from numpy and matplotlib\n"
     ]
    },
    {
     "name": "stderr",
     "output_type": "stream",
     "text": [
      "D:\\anaconda\\anaconda3\\lib\\site-packages\\IPython\\core\\magics\\pylab.py:160: UserWarning: pylab import has clobbered these variables: ['expm1', 'repeat', 'trunc', 'degrees', 'array', 'cos', 'ceil', 'randn', 'rand', 'shuffle', 'sqrt', 'log10', 'hypot', 'rint', 'log2', 'tanh', 'mean', 'floor', 'tan', 'flatten', 'split', 'sin', 'cosh', 'radians', 'exp', 'log', 'cbrt', 'isnan', 'sum', 'broadcast', 'size', 'sinh', 'log1p']\n",
      "`%matplotlib` prevents importing * from pylab and numpy\n",
      "  \"\\n`%matplotlib` prevents importing * from pylab and numpy\"\n"
     ]
    }
   ],
   "source": [
    "import pandas as pd\n",
    "import numpy as np\n",
    "import matplotlib.pyplot as plt\n",
    "from pyspark.sql.functions import *\n",
    "from pyspark.sql import *\n",
    "%matplotlib inline\n",
    "%pylab inline\n",
    "from pyspark.sql.functions import *"
   ]
  },
  {
   "cell_type": "code",
   "execution_count": 3,
   "metadata": {},
   "outputs": [],
   "source": [
    "import matplotlib.cm as cm"
   ]
  },
  {
   "cell_type": "code",
   "execution_count": 199,
   "metadata": {},
   "outputs": [],
   "source": [
    "import branca.colormap as bcm"
   ]
  },
  {
   "cell_type": "code",
   "execution_count": 4,
   "metadata": {},
   "outputs": [],
   "source": [
    "import os\n",
    "os.environ['JAVA_HOME']='D:/Java'\n",
    "os.environ['HADOOP_HOME']='D:/hadoop/hadoop-3.0.0'\n",
    "spark = SparkSession\\\n",
    "        .builder\\\n",
    "        .appName(\"PythonData\")\\\n",
    "        .getOrCreate()"
   ]
  },
  {
   "cell_type": "code",
   "execution_count": 5,
   "metadata": {},
   "outputs": [
    {
     "data": {
      "text/html": [
       "\n",
       "            <div>\n",
       "                <p><b>SparkSession - in-memory</b></p>\n",
       "                \n",
       "        <div>\n",
       "            <p><b>SparkContext</b></p>\n",
       "\n",
       "            <p><a href=\"http://LAPTOP-RP3ISFEM.mshome.net:4042\">Spark UI</a></p>\n",
       "\n",
       "            <dl>\n",
       "              <dt>Version</dt>\n",
       "                <dd><code>v3.0.0</code></dd>\n",
       "              <dt>Master</dt>\n",
       "                <dd><code>local[*]</code></dd>\n",
       "              <dt>AppName</dt>\n",
       "                <dd><code>PythonData</code></dd>\n",
       "            </dl>\n",
       "        </div>\n",
       "        \n",
       "            </div>\n",
       "        "
      ],
      "text/plain": [
       "<pyspark.sql.session.SparkSession at 0x1cd3e46efc8>"
      ]
     },
     "execution_count": 5,
     "metadata": {},
     "output_type": "execute_result"
    }
   ],
   "source": [
    "spark"
   ]
  },
  {
   "cell_type": "code",
   "execution_count": 143,
   "metadata": {},
   "outputs": [],
   "source": [
    "colors_list=cm.rainbow(np.linspace(0,1,13))"
   ]
  },
  {
   "cell_type": "code",
   "execution_count": 37,
   "metadata": {},
   "outputs": [],
   "source": [
    "d1=(74.25559-73.70001)/50 #шаги сетки\n",
    "d2=(40.91553-40.49612)/50"
   ]
  },
  {
   "cell_type": "code",
   "execution_count": 107,
   "metadata": {},
   "outputs": [],
   "source": [
    "from functools import reduce\n",
    "lines_flat = reduce(lambda a, b: a+b, lines)"
   ]
  },
  {
   "cell_type": "code",
   "execution_count": 262,
   "metadata": {},
   "outputs": [],
   "source": [
    "@udf\n",
    "def create_rectangles(business_hour, region, target_0, target_1, target_2, target_3, target_4, target_5, target_6):\n",
    "    import json\n",
    "    from datetime import timedelta\n",
    "    return json.dumps([\n",
    "        {\n",
    "            'coordinates':[[\n",
    "                [-74.25559+d1*int(region/50), 40.49612+d2*(region-int(region/50)*50)],\n",
    "                [-74.25559+d1*int(region/50)+d1,40.49612+d2*(region-int(region/50)*50)],\n",
    "                [-74.25559+d1*int(region/50)+d1,40.49612+d2*(region-int(region/50)*50)+d2],\n",
    "                [-74.25559+d1*int(region/50),40.49612+d2*(region-int(region/50)*50)+d2],\n",
    "                [-74.25559+d1*int(region/50), 40.49612+d2*(region-int(region/50)*50)]\n",
    "            ]],\n",
    "            'dates': [\n",
    "                    str(business_hour + timedelta(hours=i)),\n",
    "                    str(business_hour + timedelta(hours=i+1))\n",
    "            ],\n",
    "            'color': matplotlib.colors.to_hex(colors_list[int(np.ceil(np.log2(np.max(target if target > 0 else 0, 0) + 1)))][:3]),\n",
    "        } for i, target in enumerate([target_0, target_1, target_2, target_3, target_4, target_5, target_6])\n",
    "    ])"
   ]
  },
  {
   "cell_type": "code",
   "execution_count": 275,
   "metadata": {},
   "outputs": [],
   "source": [
    "lines_target = spark.read.parquet('D:/Final_project_ML/Data/data_pred/check_res_w6.parquet')\\\n",
    ".withColumn(\"rectangles\", create_rectangles(\"business_hour\", \"variable\", \"target_1\", \"target_1\", \"target_2\", \"target_3\", \"target_4\", \"target_5\", \"target_6\"))\\\n",
    ".select(\"business_hour\", \"rectangles\").rdd.map(lambda x: Row(business_hour=x[0], rectangles=json.loads(x[1]))).reduceByKey(lambda a, b: a+b).map(lambda r: (r[0], r[1])).collect()"
   ]
  },
  {
   "cell_type": "code",
   "execution_count": 265,
   "metadata": {},
   "outputs": [],
   "source": [
    "lines_pred = spark.read.parquet('D:/Final_project_ML/Data/data_pred/check_res_w6.parquet')\\\n",
    ".withColumn(\"rectangles\", create_rectangles(\"business_hour\", \"variable\", \"pred_1\", \"pred_1\", \"pred_2\", \"pred_3\", \"pred_4\", \"pred_5\", \"pred_6\"))\\\n",
    ".select(\"business_hour\", \"rectangles\")\\\n",
    ".rdd\\\n",
    ".map(lambda x: Row(business_hour=x[0], rectangles=json.loads(x[1])))\\\n",
    ".reduceByKey(lambda a, b: a+b)\\\n",
    ".map(lambda r: (r[0], r[1]))\\\n",
    ".collect()"
   ]
  },
  {
   "cell_type": "code",
   "execution_count": 318,
   "metadata": {},
   "outputs": [],
   "source": [
    "#создание динамической карты для определенного момента времени\n",
    "def plot_map(time, lines= None):\n",
    "    m = folium.Map(location=[40.748817, -73.985428],zoom_start=10, zoom_control=False,  width= 800)\n",
    "   # colormap=bcm.LinearColormap(colors=[list(i) for i in colors_list],index=[2**i for i in range(len(colors_list))])\n",
    "    colormap=bcm.LinearColormap([list(i) for i in list(colors_list)]).scale(0, 13)\n",
    "    colormap.caption = 'log2(cnt)'\n",
    "    m.add_child(colormap)\n",
    "                                                          \n",
    "    features = [\n",
    "        {\n",
    "            'type': 'Feature',\n",
    "            'geometry': {\n",
    "                'type': 'Polygon',\n",
    "                'coordinates': line['coordinates'],\n",
    "            },\n",
    "            'properties': {\n",
    "                'times': line['dates'],\n",
    "                'style': {\n",
    "                    'color': line['color'],\n",
    "                    'weight': 2,\n",
    "                }\n",
    "            }\n",
    "        }\n",
    "        for line in lines[int((time[0] - datetime(2016, 6, 1, 0)).total_seconds() / 60 / 60)][1]\n",
    "    ]\n",
    "\n",
    "    plugins.TimestampedGeoJson({\n",
    "        'type': 'FeatureCollection',\n",
    "        'features': features,\n",
    "    }, period='PT1H', add_last_point=True, auto_play=False).add_to(m)\n",
    "\n",
    "    #m.save(os.path.join('results', 'Plugins_6.html'))\n",
    "    return m"
   ]
  },
  {
   "cell_type": "code",
   "execution_count": 150,
   "metadata": {},
   "outputs": [],
   "source": [
    "from ipywidgets import interact\n",
    "import ipywidgets as widgets"
   ]
  },
  {
   "cell_type": "code",
   "execution_count": 264,
   "metadata": {},
   "outputs": [],
   "source": [
    "import ipywidgets as widgets\n",
    "import pandas as pd\n",
    "from datetime import datetime\n",
    "\n",
    "start_date = datetime(2016, 6, 1, 0)\n",
    "end_date = datetime(2016, 6, 30, 23)\n",
    "\n",
    "dates = pd.date_range(start_date, end_date, freq='H')\n",
    "\n",
    "options = [(date.strftime('%Y-%m-%d %H:%M'), date) for date in dates]\n",
    "index = (0, len(options)-1)\n",
    "\n",
    "selection_range_slider = widgets.SelectionRangeSlider(\n",
    "    options=options,\n",
    "    index=index,\n",
    "    description='Dates',\n",
    "    orientation='horizontal',\n",
    "    layout={'width': '600px'},\n",
    "    readout_width=1\n",
    ")\n",
    "\n"
   ]
  },
  {
   "cell_type": "code",
   "execution_count": 290,
   "metadata": {},
   "outputs": [],
   "source": [
    "def plot_target(time):\n",
    "    return plot_map(time, lines=lines_target)\n",
    "\n",
    "def plot_pred(time):\n",
    "    return plot_map(time, lines=lines_pred)"
   ]
  },
  {
   "cell_type": "code",
   "execution_count": null,
   "metadata": {},
   "outputs": [],
   "source": []
  },
  {
   "cell_type": "markdown",
   "metadata": {},
   "source": [
    "Теперь перейдем к временным рядам"
   ]
  },
  {
   "cell_type": "code",
   "execution_count": 322,
   "metadata": {},
   "outputs": [],
   "source": [
    "region_list=(1075, 1076, 1077, 1125, 1126, 1127, 1128, 1129, 1130, 1131, 1132,\n",
    "       1172, 1173, 1174, 1175, 1176, 1177, 1178, 1179, 1180, 1181, 1182,\n",
    "       1183, 1184, 1221, 1222, 1223, 1224, 1225, 1227, 1228, 1229, 1230,\n",
    "       1231, 1232, 1233, 1234, 1235, 1272, 1273, 1274, 1278, 1279, 1280,\n",
    "       1281, 1282, 1283, 1284, 1285, 1286, 1287, 1326, 1327, 1331, 1332,\n",
    "       1333, 1334, 1335, 1336, 1337, 1338, 1339, 1376, 1377, 1378, 1380,\n",
    "       1382, 1383, 1384, 1385, 1386, 1387, 1388, 1389, 1390, 1426, 1431,\n",
    "       1434, 1435, 1436, 1437, 1438, 1439, 1441, 1442, 1480, 1482, 1483,\n",
    "       1530, 1532, 1533, 1580, 1630, 1684, 1733, 1734, 1783, 2068, 2069,\n",
    "       2118, 2119, 2168)"
   ]
  },
  {
   "cell_type": "code",
   "execution_count": 351,
   "metadata": {},
   "outputs": [],
   "source": [
    "dropdown=widgets.Dropdown(\n",
    "    options=region_list,\n",
    "    value=1075,\n",
    "    description='Region:',\n",
    "    disabled=False,\n",
    ")"
   ]
  },
  {
   "cell_type": "code",
   "execution_count": 336,
   "metadata": {},
   "outputs": [],
   "source": [
    "from datetime import datetime, timedelta"
   ]
  },
  {
   "cell_type": "code",
   "execution_count": 355,
   "metadata": {},
   "outputs": [],
   "source": [
    "def plot_time_series(region):\n",
    "    x=spark.read.parquet('D:/Final_project_ML/Data/data_pred/check_res_w6.parquet').where('variable = {}'.format(region)).select(\"business_hour\", \"target_1\", \"pred_1\").orderBy('business_hour').toPandas()\n",
    "    x.index=[j+timedelta(hours=1) for j in x.business_hour]\n",
    "    x=x.drop('business_hour', axis=1)\n",
    "    x.columns=['real','predicted']\n",
    "    x.plot()"
   ]
  },
  {
   "cell_type": "code",
   "execution_count": null,
   "metadata": {},
   "outputs": [],
   "source": []
  },
  {
   "cell_type": "code",
   "execution_count": null,
   "metadata": {},
   "outputs": [],
   "source": []
  },
  {
   "cell_type": "code",
   "execution_count": null,
   "metadata": {},
   "outputs": [],
   "source": []
  },
  {
   "cell_type": "markdown",
   "metadata": {},
   "source": [
    "## Итоги работы:\n",
    "Есть много недоточетов, но думаю в качестве демо, на которое можно опирать при дальнейшем улучшении проекта, вполне приемлимо"
   ]
  },
  {
   "cell_type": "code",
   "execution_count": 320,
   "metadata": {},
   "outputs": [
    {
     "name": "stdout",
     "output_type": "stream",
     "text": [
      "Map of predicted values\n"
     ]
    },
    {
     "data": {
      "application/vnd.jupyter.widget-view+json": {
       "model_id": "b9efd1d1c832423c86b873569533daba",
       "version_major": 2,
       "version_minor": 0
      },
      "text/plain": [
       "interactive(children=(SelectionRangeSlider(description='Dates', index=(408, 719), layout=Layout(width='600px')…"
      ]
     },
     "metadata": {},
     "output_type": "display_data"
    },
    {
     "data": {
      "text/plain": [
       "<function __main__.plot_pred(time)>"
      ]
     },
     "execution_count": 320,
     "metadata": {},
     "output_type": "execute_result"
    }
   ],
   "source": [
    "print(\"Map of predicted values\")\n",
    "interact(plot_pred, time = selection_range_slider)"
   ]
  },
  {
   "cell_type": "code",
   "execution_count": 319,
   "metadata": {},
   "outputs": [
    {
     "name": "stdout",
     "output_type": "stream",
     "text": [
      "Map of real values\n"
     ]
    },
    {
     "data": {
      "application/vnd.jupyter.widget-view+json": {
       "model_id": "e711c5f80c3546d1ab087c1be11d5f64",
       "version_major": 2,
       "version_minor": 0
      },
      "text/plain": [
       "interactive(children=(SelectionRangeSlider(description='Dates', index=(408, 719), layout=Layout(width='600px')…"
      ]
     },
     "metadata": {},
     "output_type": "display_data"
    },
    {
     "data": {
      "text/plain": [
       "<function __main__.plot_target(time)>"
      ]
     },
     "execution_count": 319,
     "metadata": {},
     "output_type": "execute_result"
    }
   ],
   "source": [
    "print(\"Map of real values\")\n",
    "interact(plot_target, time = selection_range_slider)"
   ]
  },
  {
   "cell_type": "code",
   "execution_count": 356,
   "metadata": {},
   "outputs": [
    {
     "data": {
      "application/vnd.jupyter.widget-view+json": {
       "model_id": "9dc41f1fe9264a9fbdcf195142212cc8",
       "version_major": 2,
       "version_minor": 0
      },
      "text/plain": [
       "interactive(children=(Dropdown(description='Region:', index=2, options=(1075, 1076, 1077, 1125, 1126, 1127, 11…"
      ]
     },
     "metadata": {},
     "output_type": "display_data"
    },
    {
     "data": {
      "text/plain": [
       "<function __main__.plot_time_series(region)>"
      ]
     },
     "execution_count": 356,
     "metadata": {},
     "output_type": "execute_result"
    }
   ],
   "source": [
    "interact(plot_time_series, region = dropdown)"
   ]
  },
  {
   "cell_type": "code",
   "execution_count": null,
   "metadata": {},
   "outputs": [],
   "source": []
  }
 ],
 "metadata": {
  "kernelspec": {
   "display_name": "Python 3",
   "language": "python",
   "name": "python3"
  },
  "language_info": {
   "codemirror_mode": {
    "name": "ipython",
    "version": 3
   },
   "file_extension": ".py",
   "mimetype": "text/x-python",
   "name": "python",
   "nbconvert_exporter": "python",
   "pygments_lexer": "ipython3",
   "version": "3.7.6"
  }
 },
 "nbformat": 4,
 "nbformat_minor": 4
}
